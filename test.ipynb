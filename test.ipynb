{
 "cells": [
  {
   "cell_type": "code",
   "execution_count": null,
   "metadata": {},
   "outputs": [],
   "source": [
    "\n",
    "\n",
    "\n"
   ]
  },
  {
   "cell_type": "code",
   "execution_count": 3,
   "metadata": {},
   "outputs": [],
   "source": [
    "\n",
    "# Online Python - IDE, Editor, Compiler, Interpreter\n",
    "costs1 = [10,10,1]\n",
    "x1 = 21\n",
    "sp1 = 5\n",
    "costs2 = [10,10,1]\n",
    "x2 = 20\n",
    "sp2 = 5\n",
    "costs3 = [10,10,1]\n",
    "x3 =22\n",
    "sp3 = 5\n",
    "costs4 = [1,-1,11]\n",
    "x4 =22\n",
    "sp4 = 5"
   ]
  },
  {
   "cell_type": "code",
   "execution_count": 4,
   "metadata": {},
   "outputs": [],
   "source": [
    "def sum_(costs,shipping,x):\n",
    "    validflag = 1\n",
    "    \n",
    "    if x <0 or shipping < 0:\n",
    "        validflag = 0\n",
    "    \n",
    "    for cost in costs:\n",
    "        if cost<0:\n",
    "            validflag = 0\n",
    "    if validflag == 0:\n",
    "        return -1\n",
    "    sum1 = sum(costs)\n",
    "    if len(costs) == 0:\n",
    "     return 0\n",
    "    if sum1>=x:\n",
    "     res=sum1\n",
    "    else:\n",
    "        res = sum1 + shipping\n",
    "    return res\n"
   ]
  },
  {
   "cell_type": "code",
   "execution_count": 5,
   "metadata": {},
   "outputs": [
    {
     "name": "stdout",
     "output_type": "stream",
     "text": [
      "21\n",
      "21\n",
      "26\n",
      "-1\n"
     ]
    }
   ],
   "source": [
    "print(sum_(costs1,sp1,x1))\n",
    "print(sum_(costs2,sp2,x2))\n",
    "print(sum_(costs3,sp3,x3))\n",
    "print(sum_(costs4,sp4,x4))"
   ]
  }
 ],
 "metadata": {
  "kernelspec": {
   "display_name": "base",
   "language": "python",
   "name": "python3"
  },
  "language_info": {
   "codemirror_mode": {
    "name": "ipython",
    "version": 3
   },
   "file_extension": ".py",
   "mimetype": "text/x-python",
   "name": "python",
   "nbconvert_exporter": "python",
   "pygments_lexer": "ipython3",
   "version": "3.8.10"
  }
 },
 "nbformat": 4,
 "nbformat_minor": 2
}
