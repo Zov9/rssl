{
 "cells": [
  {
   "cell_type": "code",
   "execution_count": 1,
   "metadata": {},
   "outputs": [
    {
     "name": "stderr",
     "output_type": "stream",
     "text": [
      "/home/lipeng/anaconda3/envs/torch1.12/lib/python3.9/site-packages/tqdm/auto.py:22: TqdmWarning: IProgress not found. Please update jupyter and ipywidgets. See https://ipywidgets.readthedocs.io/en/stable/user_install.html\n",
      "  from .autonotebook import tqdm as notebook_tqdm\n"
     ]
    },
    {
     "name": "stdout",
     "output_type": "stream",
     "text": [
      "Original targets_u: tensor([1, 2, 0, 3, 2])\n",
      "Mask: tensor([False,  True,  True, False,  True])\n"
     ]
    }
   ],
   "source": [
    "import torch\n",
    "\n",
    "# Example dynamic tuple (indices to be masked as True)\n",
    "dynamic_tuple = (0, 2)\n",
    "\n",
    "# Example tensor with shape (batch_size,)\n",
    "targets_u = torch.tensor([1, 2, 0, 3, 2])\n",
    "\n",
    "# Create a mask tensor based on dynamic_tuple\n",
    "mask = torch.tensor([index in dynamic_tuple for index in targets_u], dtype=torch.bool)\n",
    "\n",
    "print(\"Original targets_u:\", targets_u)\n",
    "print(\"Mask:\", mask)"
   ]
  },
  {
   "cell_type": "code",
   "execution_count": 1,
   "metadata": {},
   "outputs": [
    {
     "name": "stderr",
     "output_type": "stream",
     "text": [
      "/home/lipeng/anaconda3/envs/torch1.12/lib/python3.9/site-packages/tqdm/auto.py:22: TqdmWarning: IProgress not found. Please update jupyter and ipywidgets. See https://ipywidgets.readthedocs.io/en/stable/user_install.html\n",
      "  from .autonotebook import tqdm as notebook_tqdm\n"
     ]
    }
   ],
   "source": [
    "import torch"
   ]
  },
  {
   "cell_type": "code",
   "execution_count": 6,
   "metadata": {},
   "outputs": [],
   "source": [
    "coss = [0.1,0.2,0.3,0.5,0.01,0.05,1]\n",
    "coss = torch.tensor(coss)"
   ]
  },
  {
   "cell_type": "code",
   "execution_count": 9,
   "metadata": {},
   "outputs": [
    {
     "data": {
      "text/plain": [
       "torch.return_types.sort(\n",
       "values=tensor([0.0100, 0.0500, 0.1000, 0.2000, 0.3000, 0.5000, 1.0000]),\n",
       "indices=tensor([4, 5, 0, 1, 2, 3, 6]))"
      ]
     },
     "execution_count": 9,
     "metadata": {},
     "output_type": "execute_result"
    }
   ],
   "source": [
    "torch.sort(coss)"
   ]
  },
  {
   "cell_type": "code",
   "execution_count": 16,
   "metadata": {},
   "outputs": [
    {
     "data": {
      "text/plain": [
       "tensor(0.0100)"
      ]
     },
     "execution_count": 16,
     "metadata": {},
     "output_type": "execute_result"
    }
   ],
   "source": [
    "torch.min(coss)"
   ]
  },
  {
   "cell_type": "code",
   "execution_count": 15,
   "metadata": {},
   "outputs": [
    {
     "data": {
      "text/plain": [
       "tensor(0.1000)"
      ]
     },
     "execution_count": 15,
     "metadata": {},
     "output_type": "execute_result"
    }
   ],
   "source": [
    "coss[0]"
   ]
  },
  {
   "cell_type": "code",
   "execution_count": 18,
   "metadata": {},
   "outputs": [
    {
     "data": {
      "text/plain": [
       "tensor(0.1000)"
      ]
     },
     "execution_count": 18,
     "metadata": {},
     "output_type": "execute_result"
    }
   ],
   "source": [
    "torch.mean(coss[:1])"
   ]
  },
  {
   "cell_type": "code",
   "execution_count": 19,
   "metadata": {},
   "outputs": [],
   "source": [
    "my_tuple = (1, 2, 3, 4, 5)\n"
   ]
  },
  {
   "cell_type": "code",
   "execution_count": 20,
   "metadata": {},
   "outputs": [
    {
     "data": {
      "text/plain": [
       "'(1, 2, 3, 4, 5)'"
      ]
     },
     "execution_count": 20,
     "metadata": {},
     "output_type": "execute_result"
    }
   ],
   "source": [
    "str(my_tuple)"
   ]
  },
  {
   "cell_type": "code",
   "execution_count": 2,
   "metadata": {},
   "outputs": [
    {
     "name": "stdout",
     "output_type": "stream",
     "text": [
      "Class Means none:\n",
      " [None, None]\n",
      "Class Means add:\n",
      " [tensor([[1.0500, 2.0500, 3.0500]]), tensor([[4.0500, 5.0500, 6.0500]])]\n",
      "Class Means cat:\n",
      " tensor([[1.0500, 2.0500, 3.0500],\n",
      "        [4.0500, 5.0500, 6.0500]])\n",
      "Class Means norm:\n",
      " tensor([[0.2747, 0.5364, 0.7980],\n",
      "        [0.4571, 0.5699, 0.6828]])\n"
     ]
    }
   ],
   "source": [
    "import torch\n",
    "import torch.nn.functional as F\n",
    "\n",
    "# Example features tensor (rows are samples, columns are features)\n",
    "all_features = torch.tensor([\n",
    "    [1.0, 2.0, 3.0],  # Class 0\n",
    "    [1.1, 2.1, 3.1],  # Class 0\n",
    "    [4.0, 5.0, 6.0],  # Class 1\n",
    "    [4.1, 5.1, 6.1],  # Class 1\n",
    "])\n",
    "\n",
    "# Example labels tensor corresponding to the features\n",
    "labels = torch.tensor([0, 0, 1, 1])\n",
    "\n",
    "# Number of classes\n",
    "num_classes = 2\n",
    "\n",
    "# Get unique labels and their counts\n",
    "unique_labels, label_counts = labels.unique(return_counts=True)\n",
    "\n",
    "# Initialize the list for class means\n",
    "class_means = [None] * num_classes\n",
    "print(\"Class Means none:\\n\", class_means)\n",
    "# Calculate mean features for each class\n",
    "idx = 0\n",
    "for i, cnt in zip(unique_labels, label_counts):\n",
    "    class_means[i] = all_features[idx: idx+cnt].mean(dim=0, keepdim=True)\n",
    "    idx += cnt\n",
    "print(\"Class Means add:\\n\", class_means)\n",
    "# Concatenate the class means\n",
    "class_means = torch.cat(class_means, dim=0)\n",
    "print(\"Class Means cat:\\n\", class_means)\n",
    "# Normalize the class means\n",
    "class_means = F.normalize(class_means, dim=-1)\n",
    "\n",
    "print(\"Class Means norm:\\n\", class_means)"
   ]
  }
 ],
 "metadata": {
  "kernelspec": {
   "display_name": "torch1.12",
   "language": "python",
   "name": "python3"
  },
  "language_info": {
   "codemirror_mode": {
    "name": "ipython",
    "version": 3
   },
   "file_extension": ".py",
   "mimetype": "text/x-python",
   "name": "python",
   "nbconvert_exporter": "python",
   "pygments_lexer": "ipython3",
   "version": "3.9.13"
  }
 },
 "nbformat": 4,
 "nbformat_minor": 2
}
