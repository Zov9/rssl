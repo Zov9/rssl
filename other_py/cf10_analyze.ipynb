{
 "cells": [
  {
   "cell_type": "code",
   "execution_count": 33,
   "metadata": {},
   "outputs": [],
   "source": [
    "filename = 'cf10_1128t2.txt'\n"
   ]
  },
  {
   "cell_type": "code",
   "execution_count": 34,
   "metadata": {},
   "outputs": [],
   "source": [
    "filename = '/data/lipeng/ABC/txt/'+filename"
   ]
  },
  {
   "cell_type": "code",
   "execution_count": 35,
   "metadata": {},
   "outputs": [],
   "source": [
    "with open(filename, 'r') as file:\n",
    "            lines = file.readlines()\n",
    "\n",
    "i = 0\n",
    "rc = []\n",
    "e_info = []\n",
    "while i < len(lines):\n",
    "            if lines[i].startswith('Class-wise'):\n",
    "                # Process the next 100 lines to get class index and recall value for the current epoch\n",
    "                epoch_info = []\n",
    "                recalls = []\n",
    "                for j in range(i + 1, i + 11):\n",
    "                    class_line = lines[j].split()\n",
    "                    #print('class_line',class_line)\n",
    "                    class_index = int(class_line[1])\n",
    "                    recall_value = float(class_line[3])\n",
    "                    epoch_info.append((class_index, recall_value))\n",
    "                    #print(recall_value)\n",
    "                    recalls.append(recall_value)\n",
    "                # Sort the class indexes based on recall values for the current epoch\n",
    "                e_info.append(epoch_info)\n",
    "                rc.append(sum(recalls)/len(recalls))\n",
    "                sorted_indexes = [index for index, _ in sorted(epoch_info, key=lambda x: x[1])]\n",
    "                #recall_smallest_20.append(sorted_indexes[:20])\n",
    "                i += 1  # Move to the next epoch\n",
    "            else:\n",
    "                i += 1\n"
   ]
  },
  {
   "cell_type": "code",
   "execution_count": 36,
   "metadata": {},
   "outputs": [],
   "source": [
    "category_mean_recalls = [0] * 10\n",
    "\n",
    "# 遍历所有100个类别\n",
    "for class_id in range(10):\n",
    "    # 获取该类别在最后5个epoch的召回率列表\n",
    "    class_recalls = [recall for epoch in e_info[-5:] for cid, recall in epoch if cid == class_id]\n",
    "    \n",
    "    # 如果有数据，计算平均值并存储\n",
    "    if class_recalls:\n",
    "        category_mean_recalls[class_id] = sum(class_recalls) / len(class_recalls)\n",
    "\n",
    "# 现在，len(category_mean_recalls) = 100，每个元素是对应类别的平均召回率"
   ]
  },
  {
   "cell_type": "code",
   "execution_count": 37,
   "metadata": {},
   "outputs": [],
   "source": [
    "def get_smallest_recall_classes(category_mean_recalls, n=10):\n",
    "    # 检查输入\n",
    "    if not category_mean_recalls or not isinstance(category_mean_recalls, list):\n",
    "        raise ValueError(\"category_mean_recalls must be a non-empty list\")\n",
    "    \n",
    "    # 创建一个包含类别索引和平均召回率的列表\n",
    "    indexed_recalls = list(enumerate(category_mean_recalls))\n",
    "    \n",
    "    # 根据平均召回率对列表进行排序（升序）\n",
    "    sorted_recalls = sorted(indexed_recalls, key=lambda x: x[1])\n",
    "    \n",
    "    # 选择前n个元素，但不超过列表长度\n",
    "    n = min(n, len(sorted_recalls))\n",
    "    smallest_n = sorted_recalls[:n]\n",
    "    \n",
    "    # 打印结果\n",
    "    print(f\"{n} classes with smallest mean recall in the last 5 epochs:\")\n",
    "    for class_id, mean_recall in smallest_n:\n",
    "        print(f\"Class {class_id}: Mean Recall = {mean_recall:.4f}\")\n",
    "    \n",
    "    return smallest_n"
   ]
  },
  {
   "cell_type": "code",
   "execution_count": 38,
   "metadata": {},
   "outputs": [
    {
     "name": "stdout",
     "output_type": "stream",
     "text": [
      "10 classes with smallest mean recall in the last 5 epochs:\n",
      "Class 9: Mean Recall = 0.2900\n",
      "Class 8: Mean Recall = 0.3760\n",
      "Class 5: Mean Recall = 0.6000\n",
      "Class 7: Mean Recall = 0.6100\n",
      "Class 6: Mean Recall = 0.7520\n",
      "Class 3: Mean Recall = 0.8100\n",
      "Class 4: Mean Recall = 0.8660\n",
      "Class 2: Mean Recall = 0.8980\n",
      "Class 0: Mean Recall = 0.9900\n",
      "Class 1: Mean Recall = 0.9960\n"
     ]
    },
    {
     "data": {
      "text/plain": [
       "[(9, 0.29),\n",
       " (8, 0.37600000000000006),\n",
       " (5, 0.6),\n",
       " (7, 0.61),\n",
       " (6, 0.752),\n",
       " (3, 0.8099999999999999),\n",
       " (4, 0.866),\n",
       " (2, 0.898),\n",
       " (0, 0.99),\n",
       " (1, 0.9960000000000001)]"
      ]
     },
     "execution_count": 38,
     "metadata": {},
     "output_type": "execute_result"
    }
   ],
   "source": [
    "get_smallest_recall_classes(category_mean_recalls)"
   ]
  },
  {
   "cell_type": "code",
   "execution_count": 39,
   "metadata": {},
   "outputs": [],
   "source": [
    "def get_smallest_recall_classes(category_mean_recalls, n=10):\n",
    "    if not category_mean_recalls or not isinstance(category_mean_recalls, list):\n",
    "        raise ValueError(\"category_mean_recalls must be a non-empty list\")\n",
    "    \n",
    "    indexed_recalls = list(enumerate(category_mean_recalls))\n",
    "    sorted_recalls = sorted(indexed_recalls, key=lambda x: x[1])\n",
    "    \n",
    "    n = min(n, len(sorted_recalls))\n",
    "    smallest_n = sorted_recalls[:n]\n",
    "    \n",
    "    print(f\"{n} classes with smallest mean recall in the last 5 epochs:\")\n",
    "    for class_id, mean_recall in smallest_n:\n",
    "        print(f\"Class {class_id}: Mean Recall = {mean_recall:.4f}\")\n",
    "    \n",
    "    # Calculate mean of smallest recalls\n",
    "    mean_1 = smallest_n[0][1]\n",
    "    mean_2 = sum(recall for _, recall in smallest_n[:2]) / 2 if len(smallest_n) >= 2 else None\n",
    "    mean_3 = sum(recall for _, recall in smallest_n[:3]) / 3 if len(smallest_n) >= 3 else None\n",
    "    mean_5 = sum(recall for _, recall in smallest_n[:5]) / 5 if len(smallest_n) >= 5 else None\n",
    "    mean_10 = sum(recall for _, recall in smallest_n[:10]) / 10 if len(smallest_n) >= 10 else None\n",
    "    mean_20 = sum(recall for _, recall in smallest_n) / len(smallest_n)\n",
    "    \n",
    "    print(\"\\nMean of smallest recalls:\")\n",
    "    print(f\"Smallest 1: {mean_1:.4f}\")\n",
    "    print(f\"Smallest 2: {mean_2:.4f}\" if mean_2 is not None else \"Smallest 2: Not enough data\")\n",
    "    print(f\"Smallest 3: {mean_3:.4f}\" if mean_3 is not None else \"Smallest 3: Not enough data\")\n",
    "    print(f\"Smallest 5: {mean_5:.4f}\" if mean_5 is not None else \"Smallest 5: Not enough data\")\n",
    "    print(f\"Smallest 10: {mean_10:.4f}\" if mean_10 is not None else \"Smallest 10: Not enough data\")\n",
    "    print(f\"Smallest 20: {mean_20:.4f}\")\n",
    "    \n",
    "    return smallest_n, mean_1, mean_2,mean_3, mean_5, mean_10, mean_20"
   ]
  },
  {
   "cell_type": "code",
   "execution_count": 40,
   "metadata": {},
   "outputs": [
    {
     "name": "stdout",
     "output_type": "stream",
     "text": [
      "10 classes with smallest mean recall in the last 5 epochs:\n",
      "Class 9: Mean Recall = 0.2900\n",
      "Class 8: Mean Recall = 0.3760\n",
      "Class 5: Mean Recall = 0.6000\n",
      "Class 7: Mean Recall = 0.6100\n",
      "Class 6: Mean Recall = 0.7520\n",
      "Class 3: Mean Recall = 0.8100\n",
      "Class 4: Mean Recall = 0.8660\n",
      "Class 2: Mean Recall = 0.8980\n",
      "Class 0: Mean Recall = 0.9900\n",
      "Class 1: Mean Recall = 0.9960\n",
      "\n",
      "Mean of smallest recalls:\n",
      "Smallest 1: 0.2900\n",
      "Smallest 2: 0.3330\n",
      "Smallest 3: 0.4220\n",
      "Smallest 5: 0.5256\n",
      "Smallest 10: 0.7188\n",
      "Smallest 20: 0.7188\n"
     ]
    },
    {
     "data": {
      "text/plain": [
       "([(9, 0.29),\n",
       "  (8, 0.37600000000000006),\n",
       "  (5, 0.6),\n",
       "  (7, 0.61),\n",
       "  (6, 0.752),\n",
       "  (3, 0.8099999999999999),\n",
       "  (4, 0.866),\n",
       "  (2, 0.898),\n",
       "  (0, 0.99),\n",
       "  (1, 0.9960000000000001)],\n",
       " 0.29,\n",
       " 0.333,\n",
       " 0.422,\n",
       " 0.5256000000000001,\n",
       " 0.7188000000000001,\n",
       " 0.7188000000000001)"
      ]
     },
     "execution_count": 40,
     "metadata": {},
     "output_type": "execute_result"
    }
   ],
   "source": [
    "get_smallest_recall_classes(category_mean_recalls)"
   ]
  }
 ],
 "metadata": {
  "kernelspec": {
   "display_name": "torch1.12",
   "language": "python",
   "name": "python3"
  },
  "language_info": {
   "codemirror_mode": {
    "name": "ipython",
    "version": 3
   },
   "file_extension": ".py",
   "mimetype": "text/x-python",
   "name": "python",
   "nbconvert_exporter": "python",
   "pygments_lexer": "ipython3",
   "version": "3.9.13"
  }
 },
 "nbformat": 4,
 "nbformat_minor": 2
}
