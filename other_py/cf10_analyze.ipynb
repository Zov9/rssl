{
 "cells": [
  {
   "cell_type": "code",
   "execution_count": 1,
   "metadata": {},
   "outputs": [],
   "source": [
    "filename = 'svhn_2420t6.txt'\n"
   ]
  },
  {
   "cell_type": "code",
   "execution_count": 2,
   "metadata": {},
   "outputs": [],
   "source": [
    "filename = '/root/rssl/txt/'+filename"
   ]
  },
  {
   "cell_type": "code",
   "execution_count": 3,
   "metadata": {},
   "outputs": [
    {
     "ename": "FileNotFoundError",
     "evalue": "[Errno 2] No such file or directory: '/root/rssl/txt/svhn_2420t6.txt'",
     "output_type": "error",
     "traceback": [
      "\u001b[0;31m---------------------------------------------------------------------------\u001b[0m",
      "\u001b[0;31mFileNotFoundError\u001b[0m                         Traceback (most recent call last)",
      "Input \u001b[0;32mIn [3]\u001b[0m, in \u001b[0;36m<cell line: 1>\u001b[0;34m()\u001b[0m\n\u001b[0;32m----> 1\u001b[0m \u001b[38;5;28;01mwith\u001b[39;00m \u001b[38;5;28;43mopen\u001b[39;49m\u001b[43m(\u001b[49m\u001b[43mfilename\u001b[49m\u001b[43m,\u001b[49m\u001b[43m \u001b[49m\u001b[38;5;124;43m'\u001b[39;49m\u001b[38;5;124;43mr\u001b[39;49m\u001b[38;5;124;43m'\u001b[39;49m\u001b[43m)\u001b[49m \u001b[38;5;28;01mas\u001b[39;00m file:\n\u001b[1;32m      2\u001b[0m             lines \u001b[38;5;241m=\u001b[39m file\u001b[38;5;241m.\u001b[39mreadlines()\n\u001b[1;32m      4\u001b[0m i \u001b[38;5;241m=\u001b[39m \u001b[38;5;241m0\u001b[39m\n",
      "\u001b[0;31mFileNotFoundError\u001b[0m: [Errno 2] No such file or directory: '/root/rssl/txt/svhn_2420t6.txt'"
     ]
    }
   ],
   "source": [
    "with open(filename, 'r') as file:\n",
    "            lines = file.readlines()\n",
    "\n",
    "i = 0\n",
    "rc = []\n",
    "e_info = []\n",
    "while i < len(lines):\n",
    "            if lines[i].startswith('Class-wise'):\n",
    "                # Process the next 100 lines to get class index and recall value for the current epoch\n",
    "                epoch_info = []\n",
    "                recalls = []\n",
    "                for j in range(i + 1, i + 11):\n",
    "                    class_line = lines[j].split()\n",
    "                    #print('class_line',class_line)\n",
    "                    class_index = int(class_line[1])\n",
    "                    recall_value = float(class_line[3])\n",
    "                    epoch_info.append((class_index, recall_value))\n",
    "                    #print(recall_value)\n",
    "                    recalls.append(recall_value)\n",
    "                # Sort the class indexes based on recall values for the current epoch\n",
    "                e_info.append(epoch_info)\n",
    "                rc.append(sum(recalls)/len(recalls))\n",
    "                sorted_indexes = [index for index, _ in sorted(epoch_info, key=lambda x: x[1])]\n",
    "                #recall_smallest_20.append(sorted_indexes[:20])\n",
    "                i += 1  # Move to the next epoch\n",
    "            else:\n",
    "                i += 1\n"
   ]
  },
  {
   "cell_type": "code",
   "execution_count": null,
   "metadata": {},
   "outputs": [],
   "source": [
    "category_mean_recalls = [0] * 10\n",
    "\n",
    "# 遍历所有100个类别\n",
    "for class_id in range(10):\n",
    "    # 获取该类别在最后5个epoch的召回率列表\n",
    "    class_recalls = [recall for epoch in e_info[-5:] for cid, recall in epoch if cid == class_id]\n",
    "    \n",
    "    # 如果有数据，计算平均值并存储\n",
    "    if class_recalls:\n",
    "        category_mean_recalls[class_id] = sum(class_recalls) / len(class_recalls)\n",
    "\n",
    "# 现在，len(category_mean_recalls) = 100，每个元素是对应类别的平均召回率"
   ]
  },
  {
   "cell_type": "code",
   "execution_count": null,
   "metadata": {},
   "outputs": [],
   "source": [
    "def get_smallest_recall_classes(category_mean_recalls, n=10):\n",
    "    # 检查输入\n",
    "    if not category_mean_recalls or not isinstance(category_mean_recalls, list):\n",
    "        raise ValueError(\"category_mean_recalls must be a non-empty list\")\n",
    "    \n",
    "    # 创建一个包含类别索引和平均召回率的列表\n",
    "    indexed_recalls = list(enumerate(category_mean_recalls))\n",
    "    \n",
    "    # 根据平均召回率对列表进行排序（升序）\n",
    "    sorted_recalls = sorted(indexed_recalls, key=lambda x: x[1])\n",
    "    \n",
    "    # 选择前n个元素，但不超过列表长度\n",
    "    n = min(n, len(sorted_recalls))\n",
    "    smallest_n = sorted_recalls[:n]\n",
    "    \n",
    "    # 打印结果\n",
    "    print(f\"{n} classes with smallest mean recall in the last 5 epochs:\")\n",
    "    for class_id, mean_recall in smallest_n:\n",
    "        print(f\"Class {class_id}: Mean Recall = {mean_recall:.4f}\")\n",
    "    \n",
    "    return smallest_n"
   ]
  },
  {
   "cell_type": "code",
   "execution_count": null,
   "metadata": {},
   "outputs": [
    {
     "name": "stdout",
     "output_type": "stream",
     "text": [
      "10 classes with smallest mean recall in the last 5 epochs:\n",
      "Class 9: Mean Recall = 0.7260\n",
      "Class 8: Mean Recall = 0.8180\n",
      "Class 6: Mean Recall = 0.9000\n",
      "Class 3: Mean Recall = 0.9080\n",
      "Class 7: Mean Recall = 0.9120\n",
      "Class 5: Mean Recall = 0.9320\n",
      "Class 4: Mean Recall = 0.9460\n",
      "Class 1: Mean Recall = 0.9600\n",
      "Class 2: Mean Recall = 0.9600\n",
      "Class 0: Mean Recall = 0.9780\n"
     ]
    },
    {
     "data": {
      "text/plain": [
       "[(9, 0.726),\n",
       " (8, 0.818),\n",
       " (6, 0.9),\n",
       " (3, 0.908),\n",
       " (7, 0.9120000000000001),\n",
       " (5, 0.932),\n",
       " (4, 0.946),\n",
       " (1, 0.96),\n",
       " (2, 0.96),\n",
       " (0, 0.978)]"
      ]
     },
     "execution_count": 14,
     "metadata": {},
     "output_type": "execute_result"
    }
   ],
   "source": [
    "get_smallest_recall_classes(category_mean_recalls)"
   ]
  },
  {
   "cell_type": "code",
   "execution_count": null,
   "metadata": {},
   "outputs": [],
   "source": [
    "def get_smallest_recall_classes(category_mean_recalls, n=10):\n",
    "    if not category_mean_recalls or not isinstance(category_mean_recalls, list):\n",
    "        raise ValueError(\"category_mean_recalls must be a non-empty list\")\n",
    "    \n",
    "    indexed_recalls = list(enumerate(category_mean_recalls))\n",
    "    sorted_recalls = sorted(indexed_recalls, key=lambda x: x[1])\n",
    "    \n",
    "    n = min(n, len(sorted_recalls))\n",
    "    smallest_n = sorted_recalls[:n]\n",
    "    \n",
    "    print(f\"{n} classes with smallest mean recall in the last 5 epochs:\")\n",
    "    for class_id, mean_recall in smallest_n:\n",
    "        print(f\"Class {class_id}: Mean Recall = {mean_recall:.4f}\")\n",
    "    \n",
    "    # Calculate mean of smallest recalls\n",
    "    mean_1 = smallest_n[0][1]\n",
    "    mean_2 = sum(recall for _, recall in smallest_n[:2]) / 2 if len(smallest_n) >= 2 else None\n",
    "    mean_3 = sum(recall for _, recall in smallest_n[:3]) / 3 if len(smallest_n) >= 3 else None\n",
    "    mean_5 = sum(recall for _, recall in smallest_n[:5]) / 5 if len(smallest_n) >= 5 else None\n",
    "    mean_10 = sum(recall for _, recall in smallest_n[:10]) / 10 if len(smallest_n) >= 10 else None\n",
    "    mean_20 = sum(recall for _, recall in smallest_n) / len(smallest_n)\n",
    "    \n",
    "    print(\"\\nMean of smallest recalls:\")\n",
    "    print(f\"Smallest 1: {mean_1:.4f}\")\n",
    "    print(f\"Smallest 2: {mean_2:.4f}\" if mean_2 is not None else \"Smallest 2: Not enough data\")\n",
    "    print(f\"Smallest 3: {mean_3:.4f}\" if mean_3 is not None else \"Smallest 3: Not enough data\")\n",
    "    print(f\"Smallest 5: {mean_5:.4f}\" if mean_5 is not None else \"Smallest 5: Not enough data\")\n",
    "    print(f\"Smallest 10: {mean_10:.4f}\" if mean_10 is not None else \"Smallest 10: Not enough data\")\n",
    "    print(f\"Smallest 20: {mean_20:.4f}\")\n",
    "    \n",
    "    return smallest_n, mean_1, mean_2,mean_3, mean_5, mean_10, mean_20"
   ]
  },
  {
   "cell_type": "code",
   "execution_count": null,
   "metadata": {},
   "outputs": [
    {
     "name": "stdout",
     "output_type": "stream",
     "text": [
      "10 classes with smallest mean recall in the last 5 epochs:\n",
      "Class 9: Mean Recall = 0.7260\n",
      "Class 8: Mean Recall = 0.8180\n",
      "Class 6: Mean Recall = 0.9000\n",
      "Class 3: Mean Recall = 0.9080\n",
      "Class 7: Mean Recall = 0.9120\n",
      "Class 5: Mean Recall = 0.9320\n",
      "Class 4: Mean Recall = 0.9460\n",
      "Class 1: Mean Recall = 0.9600\n",
      "Class 2: Mean Recall = 0.9600\n",
      "Class 0: Mean Recall = 0.9780\n",
      "\n",
      "Mean of smallest recalls:\n",
      "Smallest 1: 0.7260\n",
      "Smallest 2: 0.7720\n",
      "Smallest 3: 0.8147\n",
      "Smallest 5: 0.8528\n",
      "Smallest 10: 0.9040\n",
      "Smallest 20: 0.9040\n"
     ]
    },
    {
     "data": {
      "text/plain": [
       "([(9, 0.726),\n",
       "  (8, 0.818),\n",
       "  (6, 0.9),\n",
       "  (3, 0.908),\n",
       "  (7, 0.9120000000000001),\n",
       "  (5, 0.932),\n",
       "  (4, 0.946),\n",
       "  (1, 0.96),\n",
       "  (2, 0.96),\n",
       "  (0, 0.978)],\n",
       " 0.726,\n",
       " 0.772,\n",
       " 0.8146666666666667,\n",
       " 0.8528,\n",
       " 0.9040000000000001,\n",
       " 0.9040000000000001)"
      ]
     },
     "execution_count": 16,
     "metadata": {},
     "output_type": "execute_result"
    }
   ],
   "source": [
    "get_smallest_recall_classes(category_mean_recalls)"
   ]
  }
 ],
 "metadata": {
  "kernelspec": {
   "display_name": "torch1.12",
   "language": "python",
   "name": "python3"
  },
  "language_info": {
   "codemirror_mode": {
    "name": "ipython",
    "version": 3
   },
   "file_extension": ".py",
   "mimetype": "text/x-python",
   "name": "python",
   "nbconvert_exporter": "python",
   "pygments_lexer": "ipython3",
   "version": "3.8.10"
  }
 },
 "nbformat": 4,
 "nbformat_minor": 2
}
