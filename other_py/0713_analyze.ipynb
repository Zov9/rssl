{
 "cells": [
  {
   "cell_type": "code",
   "execution_count": 73,
   "metadata": {},
   "outputs": [],
   "source": [
    "filename = 'cf100_241204t5_.txt'\n"
   ]
  },
  {
   "cell_type": "code",
   "execution_count": 74,
   "metadata": {},
   "outputs": [],
   "source": [
    "filename = '/data/lipeng/ABC/txt/'+filename"
   ]
  },
  {
   "cell_type": "code",
   "execution_count": 75,
   "metadata": {},
   "outputs": [],
   "source": [
    "with open(filename, 'r') as file:\n",
    "            lines = file.readlines()\n",
    "\n",
    "i = 0\n",
    "rc = []\n",
    "e_info = []\n",
    "while i < len(lines):\n",
    "            if lines[i].startswith('Class-wise'):\n",
    "                # Process the next 100 lines to get class index and recall value for the current epoch\n",
    "                epoch_info = []\n",
    "                recalls = []\n",
    "                for j in range(i + 1, i + 101):\n",
    "                    class_line = lines[j].split()\n",
    "                    #print('class_line',class_line)\n",
    "                    class_index = int(class_line[1])\n",
    "                    recall_value = float(class_line[3])\n",
    "                    epoch_info.append((class_index, recall_value))\n",
    "                    #print(recall_value)\n",
    "                    recalls.append(recall_value)\n",
    "                # Sort the class indexes based on recall values for the current epoch\n",
    "                e_info.append(epoch_info)\n",
    "                rc.append(sum(recalls)/len(recalls))\n",
    "                sorted_indexes = [index for index, _ in sorted(epoch_info, key=lambda x: x[1])]\n",
    "                #recall_smallest_20.append(sorted_indexes[:20])\n",
    "                i += 100  # Move to the next epoch\n",
    "            else:\n",
    "                i += 1\n"
   ]
  },
  {
   "cell_type": "code",
   "execution_count": 76,
   "metadata": {},
   "outputs": [],
   "source": [
    "category_mean_recalls = [0] * 100\n",
    "\n",
    "# 遍历所有100个类别\n",
    "for class_id in range(100):\n",
    "    # 获取该类别在最后5个epoch的召回率列表\n",
    "    class_recalls = [recall for epoch in e_info[-5:] for cid, recall in epoch if cid == class_id]\n",
    "    \n",
    "    # 如果有数据，计算平均值并存储\n",
    "    if class_recalls:\n",
    "        category_mean_recalls[class_id] = sum(class_recalls) / len(class_recalls)\n",
    "\n",
    "# 现在，len(category_mean_recalls) = 100，每个元素是对应类别的平均召回率"
   ]
  },
  {
   "cell_type": "code",
   "execution_count": 77,
   "metadata": {},
   "outputs": [],
   "source": [
    "def get_smallest_recall_classes(category_mean_recalls, n=20):\n",
    "    # 检查输入\n",
    "    if not category_mean_recalls or not isinstance(category_mean_recalls, list):\n",
    "        raise ValueError(\"category_mean_recalls must be a non-empty list\")\n",
    "    \n",
    "    # 创建一个包含类别索引和平均召回率的列表\n",
    "    indexed_recalls = list(enumerate(category_mean_recalls))\n",
    "    \n",
    "    # 根据平均召回率对列表进行排序（升序）\n",
    "    sorted_recalls = sorted(indexed_recalls, key=lambda x: x[1])\n",
    "    \n",
    "    # 选择前n个元素，但不超过列表长度\n",
    "    n = min(n, len(sorted_recalls))\n",
    "    smallest_n = sorted_recalls[:n]\n",
    "    \n",
    "    # 打印结果\n",
    "    print(f\"{n} classes with smallest mean recall in the last 5 epochs:\")\n",
    "    for class_id, mean_recall in smallest_n:\n",
    "        print(f\"Class {class_id}: Mean Recall = {mean_recall:.4f}\")\n",
    "    \n",
    "    return smallest_n"
   ]
  },
  {
   "cell_type": "code",
   "execution_count": 78,
   "metadata": {},
   "outputs": [
    {
     "name": "stdout",
     "output_type": "stream",
     "text": [
      "20 classes with smallest mean recall in the last 5 epochs:\n",
      "Class 98: Mean Recall = 0.1660\n",
      "Class 80: Mean Recall = 0.1840\n",
      "Class 55: Mean Recall = 0.2020\n",
      "Class 93: Mean Recall = 0.2320\n",
      "Class 72: Mean Recall = 0.2460\n",
      "Class 65: Mean Recall = 0.2740\n",
      "Class 73: Mean Recall = 0.2740\n",
      "Class 92: Mean Recall = 0.2840\n",
      "Class 46: Mean Recall = 0.3180\n",
      "Class 96: Mean Recall = 0.3200\n",
      "Class 50: Mean Recall = 0.3400\n",
      "Class 83: Mean Recall = 0.3420\n",
      "Class 44: Mean Recall = 0.3540\n",
      "Class 78: Mean Recall = 0.3580\n",
      "Class 67: Mean Recall = 0.3680\n",
      "Class 3: Mean Recall = 0.3760\n",
      "Class 35: Mean Recall = 0.3840\n",
      "Class 64: Mean Recall = 0.3860\n",
      "Class 74: Mean Recall = 0.3900\n",
      "Class 45: Mean Recall = 0.4060\n"
     ]
    },
    {
     "data": {
      "text/plain": [
       "[(98, 0.166),\n",
       " (80, 0.184),\n",
       " (55, 0.202),\n",
       " (93, 0.23199999999999998),\n",
       " (72, 0.246),\n",
       " (65, 0.27399999999999997),\n",
       " (73, 0.274),\n",
       " (92, 0.28400000000000003),\n",
       " (46, 0.318),\n",
       " (96, 0.32),\n",
       " (50, 0.34),\n",
       " (83, 0.34199999999999997),\n",
       " (44, 0.354),\n",
       " (78, 0.358),\n",
       " (67, 0.368),\n",
       " (3, 0.37600000000000006),\n",
       " (35, 0.38400000000000006),\n",
       " (64, 0.38599999999999995),\n",
       " (74, 0.39),\n",
       " (45, 0.40599999999999997)]"
      ]
     },
     "execution_count": 78,
     "metadata": {},
     "output_type": "execute_result"
    }
   ],
   "source": [
    "get_smallest_recall_classes(category_mean_recalls)"
   ]
  },
  {
   "cell_type": "code",
   "execution_count": 79,
   "metadata": {},
   "outputs": [],
   "source": [
    "def get_smallest_recall_classes(category_mean_recalls, n=20):\n",
    "    if not category_mean_recalls or not isinstance(category_mean_recalls, list):\n",
    "        raise ValueError(\"category_mean_recalls must be a non-empty list\")\n",
    "    \n",
    "    indexed_recalls = list(enumerate(category_mean_recalls))\n",
    "    sorted_recalls = sorted(indexed_recalls, key=lambda x: x[1])\n",
    "    \n",
    "    n = min(n, len(sorted_recalls))\n",
    "    smallest_n = sorted_recalls[:n]\n",
    "    \n",
    "    print(f\"{n} classes with smallest mean recall in the last 5 epochs:\")\n",
    "    for class_id, mean_recall in smallest_n:\n",
    "        print(f\"Class {class_id}: Mean Recall = {mean_recall:.4f}\")\n",
    "    \n",
    "    # Calculate mean of smallest recalls\n",
    "    mean_1 = smallest_n[0][1]\n",
    "    mean_3 = sum(recall for _, recall in smallest_n[:3]) / 3 if len(smallest_n) >= 3 else None\n",
    "    mean_5 = sum(recall for _, recall in smallest_n[:5]) / 5 if len(smallest_n) >= 5 else None\n",
    "    mean_10 = sum(recall for _, recall in smallest_n[:10]) / 10 if len(smallest_n) >= 10 else None\n",
    "    mean_20 = sum(recall for _, recall in smallest_n) / len(smallest_n)\n",
    "    \n",
    "    print(\"\\nMean of smallest recalls:\")\n",
    "    print(f\"Smallest 1: {mean_1:.4f}\")\n",
    "    print(f\"Smallest 3: {mean_3:.4f}\" if mean_3 is not None else \"Smallest 3: Not enough data\")\n",
    "    print(f\"Smallest 5: {mean_5:.4f}\" if mean_5 is not None else \"Smallest 5: Not enough data\")\n",
    "    print(f\"Smallest 10: {mean_10:.4f}\" if mean_10 is not None else \"Smallest 10: Not enough data\")\n",
    "    print(f\"Smallest 20: {mean_20:.4f}\")\n",
    "    \n",
    "    return smallest_n, mean_1, mean_3, mean_5, mean_10, mean_20"
   ]
  },
  {
   "cell_type": "code",
   "execution_count": 80,
   "metadata": {},
   "outputs": [
    {
     "name": "stdout",
     "output_type": "stream",
     "text": [
      "20 classes with smallest mean recall in the last 5 epochs:\n",
      "Class 98: Mean Recall = 0.1660\n",
      "Class 80: Mean Recall = 0.1840\n",
      "Class 55: Mean Recall = 0.2020\n",
      "Class 93: Mean Recall = 0.2320\n",
      "Class 72: Mean Recall = 0.2460\n",
      "Class 65: Mean Recall = 0.2740\n",
      "Class 73: Mean Recall = 0.2740\n",
      "Class 92: Mean Recall = 0.2840\n",
      "Class 46: Mean Recall = 0.3180\n",
      "Class 96: Mean Recall = 0.3200\n",
      "Class 50: Mean Recall = 0.3400\n",
      "Class 83: Mean Recall = 0.3420\n",
      "Class 44: Mean Recall = 0.3540\n",
      "Class 78: Mean Recall = 0.3580\n",
      "Class 67: Mean Recall = 0.3680\n",
      "Class 3: Mean Recall = 0.3760\n",
      "Class 35: Mean Recall = 0.3840\n",
      "Class 64: Mean Recall = 0.3860\n",
      "Class 74: Mean Recall = 0.3900\n",
      "Class 45: Mean Recall = 0.4060\n",
      "\n",
      "Mean of smallest recalls:\n",
      "Smallest 1: 0.1660\n",
      "Smallest 3: 0.1840\n",
      "Smallest 5: 0.2060\n",
      "Smallest 10: 0.2500\n",
      "Smallest 20: 0.3102\n"
     ]
    },
    {
     "data": {
      "text/plain": [
       "([(98, 0.166),\n",
       "  (80, 0.184),\n",
       "  (55, 0.202),\n",
       "  (93, 0.23199999999999998),\n",
       "  (72, 0.246),\n",
       "  (65, 0.27399999999999997),\n",
       "  (73, 0.274),\n",
       "  (92, 0.28400000000000003),\n",
       "  (46, 0.318),\n",
       "  (96, 0.32),\n",
       "  (50, 0.34),\n",
       "  (83, 0.34199999999999997),\n",
       "  (44, 0.354),\n",
       "  (78, 0.358),\n",
       "  (67, 0.368),\n",
       "  (3, 0.37600000000000006),\n",
       "  (35, 0.38400000000000006),\n",
       "  (64, 0.38599999999999995),\n",
       "  (74, 0.39),\n",
       "  (45, 0.40599999999999997)],\n",
       " 0.166,\n",
       " 0.18400000000000002,\n",
       " 0.20600000000000002,\n",
       " 0.25,\n",
       " 0.31020000000000003)"
      ]
     },
     "execution_count": 80,
     "metadata": {},
     "output_type": "execute_result"
    }
   ],
   "source": [
    "get_smallest_recall_classes(category_mean_recalls)"
   ]
  }
 ],
 "metadata": {
  "kernelspec": {
   "display_name": "torch1.12",
   "language": "python",
   "name": "python3"
  },
  "language_info": {
   "codemirror_mode": {
    "name": "ipython",
    "version": 3
   },
   "file_extension": ".py",
   "mimetype": "text/x-python",
   "name": "python",
   "nbconvert_exporter": "python",
   "pygments_lexer": "ipython3",
   "version": "3.9.13"
  }
 },
 "nbformat": 4,
 "nbformat_minor": 2
}
