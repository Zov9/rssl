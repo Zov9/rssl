{
 "cells": [
  {
   "cell_type": "code",
   "execution_count": 2,
   "metadata": {},
   "outputs": [
    {
     "name": "stdout",
     "output_type": "stream",
     "text": [
      "0.42857142857142855\n"
     ]
    }
   ],
   "source": [
    "wk = [1, 2,3,5,6,7, 4]\n",
    "twk = (1, 2, 3,8,9,10,11)\n",
    "\n",
    "ratio = len(set(wk) & set(twk)) / len(set(wk))\n",
    "print(ratio)"
   ]
  },
  {
   "cell_type": "code",
   "execution_count": 2,
   "metadata": {},
   "outputs": [
    {
     "name": "stdout",
     "output_type": "stream",
     "text": [
      "select_mask1: tensor([False,  True,  True, False, False])\n",
      "select_mask2: tensor([False,  True, False,  True, False])\n",
      "select_mask: tensor([False,  True,  True,  True, False])\n",
      "基于select_mask筛选后的m2数据: tensor([1.2000, 0.8000, 0.1000])\n",
      "基于select_mask筛选后的m2b数据: tensor([1.0000, 0.2000, 1.8000])\n"
     ]
    }
   ],
   "source": [
    "import torch\n",
    "\n",
    "# 模拟生成两个示例张量，这里使用一维张量举例，形状为 (5,)，你可以根据实际需求修改形状等\n",
    "m2 = torch.tensor([0.5, 1.2, 0.8, 0.1, 0.3])\n",
    "m2b = torch.tensor([0.4, 1.0, 0.2, 1.8, 0.2])\n",
    "\n",
    "# 设定阈值\n",
    "selected_thresholds = 0.8\n",
    "\n",
    "# 生成select_mask1，执行大于等于阈值的比较操作，返回布尔类型的掩码张量\n",
    "select_mask1 = m2.ge(selected_thresholds)\n",
    "print(\"select_mask1:\", select_mask1)\n",
    "\n",
    "# 生成select_mask2，同样执行大于等于阈值的比较操作\n",
    "select_mask2 = m2b.ge(selected_thresholds)\n",
    "print(\"select_mask2:\", select_mask2)\n",
    "\n",
    "# 合并两个掩码，将布尔值当作0和1进行相加，得到最终的掩码\n",
    "select_mask = select_mask1 + select_mask2\n",
    "print(\"select_mask:\", select_mask.to(torch.bool))  # 将相加后的结果转换回布尔类型输出，方便查看\n",
    "\n",
    "# 可以基于最终的掩码进行数据筛选操作，以下是简单示例\n",
    "filtered_data_1 = m2[select_mask]\n",
    "filtered_data_2 = m2b[select_mask]\n",
    "print(\"基于select_mask筛选后的m2数据:\", filtered_data_1)\n",
    "print(\"基于select_mask筛选后的m2b数据:\", filtered_data_2)"
   ]
  }
 ],
 "metadata": {
  "kernelspec": {
   "display_name": "torch1.12",
   "language": "python",
   "name": "python3"
  },
  "language_info": {
   "codemirror_mode": {
    "name": "ipython",
    "version": 3
   },
   "file_extension": ".py",
   "mimetype": "text/x-python",
   "name": "python",
   "nbconvert_exporter": "python",
   "pygments_lexer": "ipython3",
   "version": "3.8.10"
  }
 },
 "nbformat": 4,
 "nbformat_minor": 2
}
